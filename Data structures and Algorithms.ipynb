{
 "cells": [
  {
   "cell_type": "markdown",
   "metadata": {},
   "source": [
    "An array is a data type where the data values are stored in a consecutive manner\n",
    "\n",
    "Memory\n",
    "->\n",
    "[1,2,3,4,5,6]\n",
    "[N,N,N,N,N,N]\n",
    "[N,N,N,N,N,N]\n",
    "[2,3,4,5,6,7]\n",
    "[N,N,N,N,N,N]\n"
   ]
  },
  {
   "cell_type": "code",
   "execution_count": 2,
   "metadata": {},
   "outputs": [],
   "source": [
    "arr=[1,2,3,4,5,6]\n",
    "#consider an array to be a list"
   ]
  },
  {
   "cell_type": "markdown",
   "metadata": {},
   "source": [
    "Stack is a datastructure with \"first in last out\" workflow"
   ]
  },
  {
   "cell_type": "code",
   "execution_count": 6,
   "metadata": {},
   "outputs": [],
   "source": [
    "#stack\n",
    "\n",
    "class Stack:\n",
    "    def __init__(self,arr):\n",
    "        self.arr=arr\n",
    "    def add(self,elem):\n",
    "        self.arr.append(elem)\n",
    "    def remove(self):\n",
    "        self.arr.pop()\n",
    "    def print_stack(self):\n",
    "        for i in reversed(self.arr):\n",
    "            print(i)\n",
    "            print(\"-\")\n",
    "        "
   ]
  },
  {
   "cell_type": "code",
   "execution_count": 7,
   "metadata": {
    "scrolled": true
   },
   "outputs": [
    {
     "name": "stdout",
     "output_type": "stream",
     "text": [
      "7\n",
      "-\n",
      "6\n",
      "-\n",
      "5\n",
      "-\n",
      "4\n",
      "-\n",
      "3\n",
      "-\n",
      "2\n",
      "-\n",
      "1\n",
      "-\n"
     ]
    }
   ],
   "source": [
    "stack=Stack([1,2,3,4,5,6])\n",
    "stack.add(7)\n",
    "stack.add(8)\n",
    "stack.remove()\n",
    "stack.print_stack()"
   ]
  },
  {
   "cell_type": "code",
   "execution_count": 9,
   "metadata": {},
   "outputs": [],
   "source": [
    "# Queue\n",
    "\n",
    "class Queue:\n",
    "    def __init__(self,arr):\n",
    "        self.arr=arr\n",
    "    def add(self,elem):\n",
    "        self.arr.append(elem)\n",
    "    def remove(self):\n",
    "        self.arr.pop(0)\n",
    "    def print_queue(self):\n",
    "        for i in self.arr:\n",
    "            print(i)\n",
    "            print(\"|\")"
   ]
  },
  {
   "cell_type": "markdown",
   "metadata": {},
   "source": [
    "Linked list is a list with nodes"
   ]
  },
  {
   "cell_type": "code",
   "execution_count": 30,
   "metadata": {},
   "outputs": [],
   "source": [
    "# Linked List Enhanced\n",
    "\n",
    "class Node:\n",
    "    def __init__(self,val,next=None):\n",
    "        self.val=val\n",
    "        self.next=next\n",
    "        \n",
    "class LinkedList:\n",
    "    def __init__(self,arr):\n",
    "        self.head=Node(arr[0])\n",
    "        self.create(arr[1:])\n",
    "    def create(self,arr):\n",
    "        cur=self.head\n",
    "        for i in arr:\n",
    "            cur.next=Node(i)\n",
    "            cur=cur.next\n",
    "    def print_list(self):\n",
    "        cur=self.head\n",
    "        while cur:\n",
    "            print(cur.val,end=\" --> \")\n",
    "            cur=cur.next\n",
    "        print(\"None\")\n",
    "        \n",
    "        "
   ]
  },
  {
   "cell_type": "code",
   "execution_count": 31,
   "metadata": {},
   "outputs": [
    {
     "name": "stdout",
     "output_type": "stream",
     "text": [
      "1 --> 2 --> 3 --> 4 --> 5 --> 6 --> 7 --> 8 --> 9 --> 0 --> None\n"
     ]
    }
   ],
   "source": [
    "List=LinkedList([1,2,3,4,5,6,7,8,9,0])\n",
    "List.print_list()\n"
   ]
  },
  {
   "cell_type": "code",
   "execution_count": null,
   "metadata": {},
   "outputs": [],
   "source": [
    "# Binary tree\n",
    "\n",
    "class Node2:\n",
    "    def __init__(self,val,left=None,right=None):\n",
    "        self.val=val\n",
    "        self.left=left\n",
    "        self.right=right\n",
    "        \n",
    "root=Node2(4)\n",
    "n1=Node2(5)\n",
    "n2=Node2(3)\n",
    "n3=Node2(-7)\n",
    "n4=Node2(0)\n",
    "\n",
    "root.left=n1\n",
    "root.right=n2\n",
    "n2.right=n3\n",
    "n3.left=n4"
   ]
  },
  {
   "cell_type": "code",
   "execution_count": 15,
   "metadata": {},
   "outputs": [],
   "source": [
    "# Binary tree Enhanced\n",
    "\n",
    "class Node2:\n",
    "    def __init__(self,val,left=None,right=None):\n",
    "        self.val=val\n",
    "        self.index=None\n",
    "        self.left=left\n",
    "        self.right=right\n",
    "class BinaryTree:\n",
    "    def __init__(self,arr):\n",
    "        self.head=Node2(arr[0])\n",
    "        self.head.index=0\n",
    "        self.create_nodes(arr[1:])\n",
    "    \n",
    "    def go_right(self,num,cur):\n",
    "        if num>cur.val and cur.right==None:\n",
    "            cur.right=Node2(num)\n",
    "            cur.right.index=cur.index+1\n",
    "        elif num>cur.val and cur.right!=None:\n",
    "            cur=cur.right\n",
    "            self.go_right(num,cur)\n",
    "        else:\n",
    "            self.go_left(num,cur)\n",
    "            \n",
    "    def go_left(self,num,cur):\n",
    "        if num<cur.val and cur.left==None:\n",
    "            cur.left=Node2(num)\n",
    "            cur.left.index=cur.index+1\n",
    "        elif num<cur.val and cur.left!=None:\n",
    "            cur=cur.left\n",
    "            self.go_left(num,cur)\n",
    "        else:\n",
    "            self.go_right(num,cur)\n",
    "    def create_nodes(self,arr):\n",
    "        for i in arr:\n",
    "            cur=self.head\n",
    "            self.go_left(i,cur)\n",
    "    \n",
    "    def insert(self,num):\n",
    "        self.go_left(num,self.head)     \n",
    "    def search(self,num):\n",
    "        cur=self.head\n",
    "        boolean=False\n",
    "        while cur!=None:\n",
    "            if num<cur.val:\n",
    "                cur=cur.left\n",
    "            elif num>cur.val:\n",
    "                cur=cur.right\n",
    "            else:\n",
    "                boolean=True\n",
    "                break\n",
    "        return boolean    "
   ]
  },
  {
   "cell_type": "code",
   "execution_count": 16,
   "metadata": {},
   "outputs": [
    {
     "name": "stdout",
     "output_type": "stream",
     "text": [
      "True\n",
      "False\n"
     ]
    }
   ],
   "source": [
    "tree=BinaryTree([1,3,5,2,4,7,-10,-8])\n",
    "print(tree.search(-8))\n",
    "tree.insert(9)\n",
    "print(tree.search(10))"
   ]
  },
  {
   "cell_type": "code",
   "execution_count": null,
   "metadata": {},
   "outputs": [],
   "source": []
  },
  {
   "cell_type": "code",
   "execution_count": 20,
   "metadata": {},
   "outputs": [],
   "source": [
    "# Bubble Sort\n",
    "\n",
    "arr=[3,2,5,1,8,-3,9,-7,4,-5]\n",
    "a=len(arr)\n",
    "for i in range(len(arr)):\n",
    "    for j in range(len(arr)-1):\n",
    "        if arr[j]>arr[j+1]:\n",
    "            temp=arr[j]\n",
    "            arr[j]=arr[j+1]\n",
    "            arr[j+1]=temp\n",
    "\n"
   ]
  },
  {
   "cell_type": "code",
   "execution_count": 21,
   "metadata": {},
   "outputs": [
    {
     "data": {
      "text/plain": [
       "[-7, -5, -3, 1, 2, 3, 4, 5, 8, 9]"
      ]
     },
     "execution_count": 21,
     "metadata": {},
     "output_type": "execute_result"
    }
   ],
   "source": [
    "arr"
   ]
  },
  {
   "cell_type": "code",
   "execution_count": 20,
   "metadata": {},
   "outputs": [],
   "source": [
    "# Bubble Sort Enhanced\n",
    "\n",
    "class BubbleSort:\n",
    "    def __init__(self,arr):\n",
    "        a=len(arr)\n",
    "        for i in range(len(arr)):\n",
    "            for j in range(len(arr)-1):\n",
    "                if arr[j]>arr[j+1]:\n",
    "                    temp=arr[j]\n",
    "                    arr[j]=arr[j+1]\n",
    "                    arr[j+1]=temp\n",
    "        self.arr=arr\n",
    "    def printn(self):\n",
    "        return self.arr\n"
   ]
  },
  {
   "cell_type": "code",
   "execution_count": 21,
   "metadata": {},
   "outputs": [
    {
     "data": {
      "text/plain": [
       "[-8, -1, 1, 2, 4, 4, 5, 6, 9]"
      ]
     },
     "execution_count": 21,
     "metadata": {},
     "output_type": "execute_result"
    }
   ],
   "source": [
    "b=BubbleSort([1,4,2,-1,5,4,9,6,-8])\n",
    "b.printn()"
   ]
  },
  {
   "cell_type": "code",
   "execution_count": 13,
   "metadata": {},
   "outputs": [],
   "source": [
    "# Selection Sort \n",
    "\n",
    "arr=[6,-1,4,16,22,5,-81,-701,701]\n",
    "\n",
    "for i in range(len(arr)-1):\n",
    "    ls=arr[i:]\n",
    "    s=0\n",
    "    for j in range(len(ls)):\n",
    "        if ls[j]<ls[s]:\n",
    "            s=j\n",
    "    ls[0],ls[s]=ls[s],ls[0]\n",
    "    arr[i:]=ls"
   ]
  },
  {
   "cell_type": "code",
   "execution_count": 14,
   "metadata": {},
   "outputs": [
    {
     "data": {
      "text/plain": [
       "[-701, -81, -1, 4, 5, 6, 16, 22, 701]"
      ]
     },
     "execution_count": 14,
     "metadata": {},
     "output_type": "execute_result"
    }
   ],
   "source": [
    "arr"
   ]
  },
  {
   "cell_type": "code",
   "execution_count": 18,
   "metadata": {},
   "outputs": [],
   "source": [
    "# Selection Sort Enhanced\n",
    "\n",
    "class SelectionSort:\n",
    "    def __init__(self,arr):\n",
    "\n",
    "        for i in range(len(arr)-1):\n",
    "            ls=arr[i:]\n",
    "            s=0\n",
    "            for j in range(len(ls)):\n",
    "                if ls[j]<ls[s]:\n",
    "                    s=j\n",
    "            ls[0],ls[s]=ls[s],ls[0]\n",
    "            arr[i:]=ls\n",
    "        self.arr=arr\n",
    "    def printn(self):\n",
    "        return self.arr"
   ]
  },
  {
   "cell_type": "code",
   "execution_count": 19,
   "metadata": {},
   "outputs": [
    {
     "data": {
      "text/plain": [
       "[-701, -81, -1, 4, 5, 6, 16, 22, 701]"
      ]
     },
     "execution_count": 19,
     "metadata": {},
     "output_type": "execute_result"
    }
   ],
   "source": [
    "s=SelectionSort([6,-1,4,16,22,5,-81,-701,701])\n",
    "s.printn()"
   ]
  },
  {
   "cell_type": "code",
   "execution_count": null,
   "metadata": {},
   "outputs": [],
   "source": []
  }
 ],
 "metadata": {
  "kernelspec": {
   "display_name": "Python 3",
   "language": "python",
   "name": "python3"
  },
  "language_info": {
   "codemirror_mode": {
    "name": "ipython",
    "version": 3
   },
   "file_extension": ".py",
   "mimetype": "text/x-python",
   "name": "python",
   "nbconvert_exporter": "python",
   "pygments_lexer": "ipython3",
   "version": "3.8.5"
  }
 },
 "nbformat": 4,
 "nbformat_minor": 4
}
